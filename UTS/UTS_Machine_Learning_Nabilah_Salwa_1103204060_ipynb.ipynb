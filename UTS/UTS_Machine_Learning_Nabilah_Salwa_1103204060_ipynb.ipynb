{
  "nbformat": 4,
  "nbformat_minor": 0,
  "metadata": {
    "colab": {
      "provenance": []
    },
    "kernelspec": {
      "name": "python3",
      "display_name": "Python 3"
    },
    "language_info": {
      "name": "python"
    }
  },
  "cells": [
    {
      "cell_type": "code",
      "source": [
        "#Nama     : Nabilah Salwa\n",
        "#NIM      : 1103204060\n",
        "#Dataset  : Diabetes Dataset (https://www.kaggle.com/code/merterendagistan/feature-engineering-diabets-dataset/notebook)\n",
        "#Model    : Classification menggunakan metode XGBoots"
      ],
      "metadata": {
        "id": "qat1aIaYSz_k"
      },
      "execution_count": null,
      "outputs": []
    },
    {
      "cell_type": "code",
      "execution_count": 1,
      "metadata": {
        "id": "hk0qjBk4nyHU"
      },
      "outputs": [],
      "source": [
        "# Import library pandas untuk manipulasi data\n",
        "import pandas as pd\n",
        "# Import library numpy untuk operasi numerik\n",
        "import numpy as np\n",
        "# Import library matplotlib.pyplot untuk visualisasi data\n",
        "import matplotlib.pyplot as plt\n",
        "# Import library seaborn untuk visualisasi data yang lebih bagus\n",
        "import seaborn as sns\n",
        "# Import library scikit-learn untuk pemodelan dan evaluasi\n",
        "from sklearn.model_selection import train_test_split\n",
        "from sklearn.metrics import accuracy_score, classification_report, confusion_matrix, mean_absolute_error\n",
        "# Import library XGBoost untuk pemodelan klasifikasi\n",
        "import xgboost as xgb"
      ]
    },
    {
      "cell_type": "code",
      "source": [
        "# Mount Google Drive\n",
        "from google.colab import drive\n",
        "drive.mount('/content/drive')\n",
        "# Baca dataset menggunakan Pandas dengan path sesuai dataset di Google Drive\n",
        "data = pd.read_csv(\"/content/drive/MyDrive/Dataset/diabetes.csv\")"
      ],
      "metadata": {
        "colab": {
          "base_uri": "https://localhost:8080/"
        },
        "id": "X2ZcR9yZoDbm",
        "outputId": "2c7b77a2-f861-4889-d87c-8f6b4f911172"
      },
      "execution_count": null,
      "outputs": [
        {
          "output_type": "stream",
          "name": "stdout",
          "text": [
            "Mounted at /content/drive\n"
          ]
        }
      ]
    },
    {
      "cell_type": "markdown",
      "source": [
        "EDA (Exploratory Data Analysis) adalah suatu pendekatan dalam analisis data yang bertujuan untuk meringkas dan memahami karakteristik utama dari suatu dataset. EDA dilakukan dengan menggunakan teknik statistik dan visualisasi data untuk mengidentifikasi pola, hubungan, anomali, dan tren dalam data"
      ],
      "metadata": {
        "id": "MMKBkizn0kdL"
      }
    },
    {
      "cell_type": "code",
      "source": [
        "# Menampilkan baris pertama dataset\n",
        "print(data.head())"
      ],
      "metadata": {
        "colab": {
          "base_uri": "https://localhost:8080/"
        },
        "id": "R7j5NyyhoFqg",
        "outputId": "ac1c143a-a327-4867-b2f0-96daf4e7838d"
      },
      "execution_count": null,
      "outputs": [
        {
          "output_type": "stream",
          "name": "stdout",
          "text": [
            "   Pregnancies  Glucose  BloodPressure  SkinThickness  Insulin   BMI  \\\n",
            "0            6      148             72             35        0  33.6   \n",
            "1            1       85             66             29        0  26.6   \n",
            "2            8      183             64              0        0  23.3   \n",
            "3            1       89             66             23       94  28.1   \n",
            "4            0      137             40             35      168  43.1   \n",
            "\n",
            "   DiabetesPedigreeFunction  Age  Outcome  \n",
            "0                     0.627   50        1  \n",
            "1                     0.351   31        0  \n",
            "2                     0.672   32        1  \n",
            "3                     0.167   21        0  \n",
            "4                     2.288   33        1  \n"
          ]
        }
      ]
    },
    {
      "cell_type": "code",
      "source": [
        "# Info dataset\n",
        "print(data.info())"
      ],
      "metadata": {
        "colab": {
          "base_uri": "https://localhost:8080/"
        },
        "id": "IaLB-u0coMaF",
        "outputId": "f50fba4b-8880-4a57-e43a-7c754ca4210d"
      },
      "execution_count": null,
      "outputs": [
        {
          "output_type": "stream",
          "name": "stdout",
          "text": [
            "<class 'pandas.core.frame.DataFrame'>\n",
            "RangeIndex: 768 entries, 0 to 767\n",
            "Data columns (total 9 columns):\n",
            " #   Column                    Non-Null Count  Dtype  \n",
            "---  ------                    --------------  -----  \n",
            " 0   Pregnancies               768 non-null    int64  \n",
            " 1   Glucose                   768 non-null    int64  \n",
            " 2   BloodPressure             768 non-null    int64  \n",
            " 3   SkinThickness             768 non-null    int64  \n",
            " 4   Insulin                   768 non-null    int64  \n",
            " 5   BMI                       768 non-null    float64\n",
            " 6   DiabetesPedigreeFunction  768 non-null    float64\n",
            " 7   Age                       768 non-null    int64  \n",
            " 8   Outcome                   768 non-null    int64  \n",
            "dtypes: float64(2), int64(7)\n",
            "memory usage: 54.1 KB\n",
            "None\n"
          ]
        }
      ]
    },
    {
      "cell_type": "markdown",
      "source": [
        "1. Diabetes Dataset memiliki 768 baris data\n",
        "2. Terdapat 9 kolom yaitu : Pregnancies, Glucose, BloodPressure, SkinThicness, Insulin, BMI, DiabetesPedigreeFunction, Age, dan Outcome\n",
        "3. Semua baris pada 9 kolom tersebut tidak memiliki null\n",
        "4. Tipe data integer terdapat pada kolom Pregnancies, Glucose, BloodPressure, SkinThicness, Insulin, Age, dan Outcome\n",
        "5. Tipe data float terdapat pada kolom BMI dan DiabetesPedigreeFunction"
      ],
      "metadata": {
        "id": "g3dltMRkAR72"
      }
    },
    {
      "cell_type": "markdown",
      "source": [
        "Visualisasi EDA (Exploratory Data Analysis) adalah representasi grafis dari data yang digunakan untuk membantu pemahaman karakteristik dan pola dalam dataset. Visualisasi EDA bertujuan untuk memberikan wawasan visual yang dapat membantu peneliti atau analis dalam mengeksplorasi data, mengidentifikasi pola, hubungan, dan tren, serta memahami distribusi variabel."
      ],
      "metadata": {
        "id": "77HLTDGX0sPf"
      }
    },
    {
      "cell_type": "code",
      "source": [
        "# Visualisasi EDA\n",
        "sns.countplot(x='Outcome', data=data)\n",
        "plt.title('Pengidap dan Bukan Pengidap')\n",
        "plt.show()"
      ],
      "metadata": {
        "colab": {
          "base_uri": "https://localhost:8080/",
          "height": 472
        },
        "id": "iY00DqOKoPYo",
        "outputId": "e038a9e9-d4d8-499b-eba2-e09a18b03352"
      },
      "execution_count": null,
      "outputs": [
        {
          "output_type": "display_data",
          "data": {
            "text/plain": [
              "<Figure size 640x480 with 1 Axes>"
            ],
            "image/png": "[encoded data removed]"
          },
          "metadata": {}
        }
      ]
    },
    {
      "cell_type": "code",
      "source": [
        "# Mengisi nilai yang hilang dengan metode forward fill\n",
        "data.fillna(method='ffill', inplace=True)"
      ],
      "metadata": {
        "id": "AhRwFi8SoRos"
      },
      "execution_count": null,
      "outputs": []
    },
    {
      "cell_type": "code",
      "source": [
        "# Handle kolom kategorikal\n",
        "data = pd.get_dummies(data, columns=['Age', 'Insulin', 'BloodPressure', 'SkinThickness', 'BMI'], drop_first=True)\n",
        "\n",
        "# Melihat data yang telah diperbarui\n",
        "print(data.head())"
      ],
      "metadata": {
        "colab": {
          "base_uri": "https://localhost:8080/"
        },
        "id": "a31TjFxToT1p",
        "outputId": "3ab65e7e-807f-4b5e-968c-35b679b35a98"
      },
      "execution_count": null,
      "outputs": [
        {
          "output_type": "stream",
          "name": "stdout",
          "text": [
            "   Pregnancies  Glucose  DiabetesPedigreeFunction  Outcome  Age_22  Age_23  \\\n",
            "0            6      148                     0.627        1       0       0   \n",
            "1            1       85                     0.351        0       0       0   \n",
            "2            8      183                     0.672        1       0       0   \n",
            "3            1       89                     0.167        0       0       0   \n",
            "4            0      137                     2.288        1       0       0   \n",
            "\n",
            "   Age_24  Age_25  Age_26  Age_27  ...  BMI_49.6  BMI_49.7  BMI_50.0  \\\n",
            "0       0       0       0       0  ...         0         0         0   \n",
            "1       0       0       0       0  ...         0         0         0   \n",
            "2       0       0       0       0  ...         0         0         0   \n",
            "3       0       0       0       0  ...         0         0         0   \n",
            "4       0       0       0       0  ...         0         0         0   \n",
            "\n",
            "   BMI_52.3  BMI_52.9  BMI_53.2  BMI_55.0  BMI_57.3  BMI_59.4  BMI_67.1  \n",
            "0         0         0         0         0         0         0         0  \n",
            "1         0         0         0         0         0         0         0  \n",
            "2         0         0         0         0         0         0         0  \n",
            "3         0         0         0         0         0         0         0  \n",
            "4         0         0         0         0         0         0         0  \n",
            "\n",
            "[5 rows x 583 columns]\n"
          ]
        }
      ]
    },
    {
      "cell_type": "markdown",
      "source": [
        "Training data adalah data yang digunakan untuk melatih (mengajar) model dalam proses pembelajaran mesin (machine learning). Pada umumnya, dataset dibagi menjadi dua bagian utama: training set (data latih) dan test set (data uji). Training set digunakan untuk melatih model, sedangkan test set digunakan untuk menguji performa model pada data yang belum pernah dilihat sebelumnya."
      ],
      "metadata": {
        "id": "Lw0kb4O802Gy"
      }
    },
    {
      "cell_type": "code",
      "source": [
        "# Pisahkan fitur dan label\n",
        "X = data.drop('Outcome', axis=1)\n",
        "y = data['Outcome']\n",
        "\n",
        "# Memisahkan dataset menjadi data train dan data test\n",
        "X_train, X_test, y_train, y_test = train_test_split(X, y, test_size=0.2, random_state=42)"
      ],
      "metadata": {
        "id": "bm4LGeIRoVqq"
      },
      "execution_count": null,
      "outputs": []
    },
    {
      "cell_type": "code",
      "source": [
        "# Inisialisasi model XGBoost\n",
        "model = xgb.XGBClassifier()\n",
        "\n",
        "# Melatih model pada data training\n",
        "model.fit(X_train, y_train)"
      ],
      "metadata": {
        "colab": {
          "base_uri": "https://localhost:8080/",
          "height": 248
        },
        "id": "hOcm-ELhoY96",
        "outputId": "a682496b-9656-4f7f-8e70-d977a61ac4d3"
      },
      "execution_count": null,
      "outputs": [
        {
          "output_type": "execute_result",
          "data": {
            "text/plain": [
              "XGBClassifier(base_score=None, booster=None, callbacks=None,\n",
              "              colsample_bylevel=None, colsample_bynode=None,\n",
              "              colsample_bytree=None, device=None, early_stopping_rounds=None,\n",
              "              enable_categorical=False, eval_metric=None, feature_types=None,\n",
              "              gamma=None, grow_policy=None, importance_type=None,\n",
              "              interaction_constraints=None, learning_rate=None, max_bin=None,\n",
              "              max_cat_threshold=None, max_cat_to_onehot=None,\n",
              "              max_delta_step=None, max_depth=None, max_leaves=None,\n",
              "              min_child_weight=None, missing=nan, monotone_constraints=None,\n",
              "              multi_strategy=None, n_estimators=None, n_jobs=None,\n",
              "              num_parallel_tree=None, random_state=None, ...)"
            ],
            "text/html": [
              "<style>#sk-container-id-1 {color: black;background-color: white;}#sk-container-id-1 pre{padding: 0;}#sk-container-id-1 div.sk-toggleable {background-color: white;}#sk-container-id-1 label.sk-toggleable__label {cursor: pointer;display: block;width: 100%;margin-bottom: 0;padding: 0.3em;box-sizing: border-box;text-align: center;}#sk-container-id-1 label.sk-toggleable__label-arrow:before {content: \"▸\";float: left;margin-right: 0.25em;color: #696969;}#sk-container-id-1 label.sk-toggleable__label-arrow:hover:before {color: black;}#sk-container-id-1 div.sk-estimator:hover label.sk-toggleable__label-arrow:before {color: black;}#sk-container-id-1 div.sk-toggleable__content {max-height: 0;max-width: 0;overflow: hidden;text-align: left;background-color: #f0f8ff;}#sk-container-id-1 div.sk-toggleable__content pre {margin: 0.2em;color: black;border-radius: 0.25em;background-color: #f0f8ff;}#sk-container-id-1 input.sk-toggleable__control:checked~div.sk-toggleable__content {max-height: 200px;max-width: 100%;overflow: auto;}#sk-container-id-1 input.sk-toggleable__control:checked~label.sk-toggleable__label-arrow:before {content: \"▾\";}#sk-container-id-1 div.sk-estimator input.sk-toggleable__control:checked~label.sk-toggleable__label {background-color: #d4ebff;}#sk-container-id-1 div.sk-label input.sk-toggleable__control:checked~label.sk-toggleable__label {background-color: #d4ebff;}#sk-container-id-1 input.sk-hidden--visually {border: 0;clip: rect(1px 1px 1px 1px);clip: rect(1px, 1px, 1px, 1px);height: 1px;margin: -1px;overflow: hidden;padding: 0;position: absolute;width: 1px;}#sk-container-id-1 div.sk-estimator {font-family: monospace;background-color: #f0f8ff;border: 1px dotted black;border-radius: 0.25em;box-sizing: border-box;margin-bottom: 0.5em;}#sk-container-id-1 div.sk-estimator:hover {background-color: #d4ebff;}#sk-container-id-1 div.sk-parallel-item::after {content: \"\";width: 100%;border-bottom: 1px solid gray;flex-grow: 1;}#sk-container-id-1 div.sk-label:hover label.sk-toggleable__label {background-color: #d4ebff;}#sk-container-id-1 div.sk-serial::before {content: \"\";position: absolute;border-left: 1px solid gray;box-sizing: border-box;top: 0;bottom: 0;left: 50%;z-index: 0;}#sk-container-id-1 div.sk-serial {display: flex;flex-direction: column;align-items: center;background-color: white;padding-right: 0.2em;padding-left: 0.2em;position: relative;}#sk-container-id-1 div.sk-item {position: relative;z-index: 1;}#sk-container-id-1 div.sk-parallel {display: flex;align-items: stretch;justify-content: center;background-color: white;position: relative;}#sk-container-id-1 div.sk-item::before, #sk-container-id-1 div.sk-parallel-item::before {content: \"\";position: absolute;border-left: 1px solid gray;box-sizing: border-box;top: 0;bottom: 0;left: 50%;z-index: -1;}#sk-container-id-1 div.sk-parallel-item {display: flex;flex-direction: column;z-index: 1;position: relative;background-color: white;}#sk-container-id-1 div.sk-parallel-item:first-child::after {align-self: flex-end;width: 50%;}#sk-container-id-1 div.sk-parallel-item:last-child::after {align-self: flex-start;width: 50%;}#sk-container-id-1 div.sk-parallel-item:only-child::after {width: 0;}#sk-container-id-1 div.sk-dashed-wrapped {border: 1px dashed gray;margin: 0 0.4em 0.5em 0.4em;box-sizing: border-box;padding-bottom: 0.4em;background-color: white;}#sk-container-id-1 div.sk-label label {font-family: monospace;font-weight: bold;display: inline-block;line-height: 1.2em;}#sk-container-id-1 div.sk-label-container {text-align: center;}#sk-container-id-1 div.sk-container {/* jupyter's `normalize.less` sets `[hidden] { display: none; }` but bootstrap.min.css set `[hidden] { display: none !important; }` so we also need the `!important` here to be able to override the default hidden behavior on the sphinx rendered scikit-learn.org. See: https://github.com/scikit-learn/scikit-learn/issues/21755 */display: inline-block !important;position: relative;}#sk-container-id-1 div.sk-text-repr-fallback {display: none;}</style><div id=\"sk-container-id-1\" class=\"sk-top-container\"><div class=\"sk-text-repr-fallback\"><pre>XGBClassifier(base_score=None, booster=None, callbacks=None,\n",
              "              colsample_bylevel=None, colsample_bynode=None,\n",
              "              colsample_bytree=None, device=None, early_stopping_rounds=None,\n",
              "              enable_categorical=False, eval_metric=None, feature_types=None,\n",
              "              gamma=None, grow_policy=None, importance_type=None,\n",
              "              interaction_constraints=None, learning_rate=None, max_bin=None,\n",
              "              max_cat_threshold=None, max_cat_to_onehot=None,\n",
              "              max_delta_step=None, max_depth=None, max_leaves=None,\n",
              "              min_child_weight=None, missing=nan, monotone_constraints=None,\n",
              "              multi_strategy=None, n_estimators=None, n_jobs=None,\n",
              "              num_parallel_tree=None, random_state=None, ...)</pre><b>In a Jupyter environment, please rerun this cell to show the HTML representation or trust the notebook. <br />On GitHub, the HTML representation is unable to render, please try loading this page with nbviewer.org.</b></div><div class=\"sk-container\" hidden><div class=\"sk-item\"><div class=\"sk-estimator sk-toggleable\"><input class=\"sk-toggleable__control sk-hidden--visually\" id=\"sk-estimator-id-1\" type=\"checkbox\" checked><label for=\"sk-estimator-id-1\" class=\"sk-toggleable__label sk-toggleable__label-arrow\">XGBClassifier</label><div class=\"sk-toggleable__content\"><pre>XGBClassifier(base_score=None, booster=None, callbacks=None,\n",
              "              colsample_bylevel=None, colsample_bynode=None,\n",
              "              colsample_bytree=None, device=None, early_stopping_rounds=None,\n",
              "              enable_categorical=False, eval_metric=None, feature_types=None,\n",
              "              gamma=None, grow_policy=None, importance_type=None,\n",
              "              interaction_constraints=None, learning_rate=None, max_bin=None,\n",
              "              max_cat_threshold=None, max_cat_to_onehot=None,\n",
              "              max_delta_step=None, max_depth=None, max_leaves=None,\n",
              "              min_child_weight=None, missing=nan, monotone_constraints=None,\n",
              "              multi_strategy=None, n_estimators=None, n_jobs=None,\n",
              "              num_parallel_tree=None, random_state=None, ...)</pre></div></div></div></div></div>"
            ]
          },
          "metadata": {},
          "execution_count": 9
        }
      ]
    },
    {
      "cell_type": "markdown",
      "source": [
        "Evaluating data adalah proses penilaian dan analisis terhadap dataset untuk memahami karakteristik, kualitas, dan struktur datanya. Evaluasi data bertujuan untuk mendapatkan wawasan yang mendalam tentang informasi yang terkandung dalam dataset dan mempersiapkan data tersebut untuk tahap selanjutnya, seperti pemodelan atau analisis."
      ],
      "metadata": {
        "id": "x0nSLC0D08sF"
      }
    },
    {
      "cell_type": "code",
      "source": [
        "# Melakukan prediksi pada dataset\n",
        "y_pred = model.predict(X_test)\n",
        "\n",
        "# Evaluasi performa model menggunakan accuracy\n",
        "accuracy = accuracy_score(y_test, y_pred)\n",
        "print(f'Accuracy: {accuracy * 100:.2f}%')"
      ],
      "metadata": {
        "colab": {
          "base_uri": "https://localhost:8080/"
        },
        "id": "8GpD5e2eoayr",
        "outputId": "8c2bc5f9-d0c7-4d2d-d38e-b866482b31c6"
      },
      "execution_count": null,
      "outputs": [
        {
          "output_type": "stream",
          "name": "stdout",
          "text": [
            "Accuracy: 71.43%\n"
          ]
        }
      ]
    },
    {
      "cell_type": "code",
      "source": [
        "# Confusion matrix\n",
        "cm = confusion_matrix(y_test, y_pred)\n",
        "# Visualisasi confusion matrix menggunakan heatmap\n",
        "plt.figure(figsize=(8, 6))\n",
        "sns.heatmap(cm, annot=True, fmt='d', cmap='Blues',\n",
        "            xticklabels=['Bukan Pengidap', 'Pengidap'],\n",
        "            yticklabels=['Bukan Pengidap', 'Pengidap'])\n",
        "plt.title('Confusion Matrix')\n",
        "plt.xlabel('Prediksi')\n",
        "plt.ylabel('Aktual')\n",
        "plt.show()"
      ],
      "metadata": {
        "colab": {
          "base_uri": "https://localhost:8080/",
          "height": 564
        },
        "id": "g7SYf1L8ocDb",
        "outputId": "e2641518-a743-4d6d-d50e-246f01467950"
      },
      "execution_count": null,
      "outputs": [
        {
          "output_type": "display_data",
          "data": {
            "text/plain": [
              "<Figure size 800x600 with 2 Axes>"
            ],
            "image/png": "[encoded data removed]"
          },
          "metadata": {}
        }
      ]
    },
    {
      "cell_type": "code",
      "source": [
        "# Menampilkan Classification report\n",
        "print('Classification Report:')\n",
        "# Menghasilkan laporan klasifikasi\n",
        "print(classification_report(y_test, y_pred))"
      ],
      "metadata": {
        "colab": {
          "base_uri": "https://localhost:8080/"
        },
        "id": "fCne_PKCohfz",
        "outputId": "cec6464e-c017-42fa-c2f0-f6372d1f2584"
      },
      "execution_count": null,
      "outputs": [
        {
          "output_type": "stream",
          "name": "stdout",
          "text": [
            "Classification Report:\n",
            "              precision    recall  f1-score   support\n",
            "\n",
            "           0       0.77      0.79      0.78        99\n",
            "           1       0.60      0.58      0.59        55\n",
            "\n",
            "    accuracy                           0.71       154\n",
            "   macro avg       0.69      0.68      0.69       154\n",
            "weighted avg       0.71      0.71      0.71       154\n",
            "\n"
          ]
        }
      ]
    },
    {
      "cell_type": "markdown",
      "source": [
        "Inputing data (penginputan data) adalah proses memasukkan atau memberikan data ke dalam suatu sistem atau program. Ini adalah langkah awal yang penting dalam pemrosesan data, karena data yang baik dan benar akan mempengaruhi kualitas analisis atau model yang dibangun."
      ],
      "metadata": {
        "id": "HvBO6r-C1DlO"
      }
    },
    {
      "cell_type": "code",
      "source": [
        "import pandas as pd\n",
        "\n",
        "# Buat data dummy untuk prediksi\n",
        "new_data = pd.DataFrame({\n",
        "    'BloodPressure': [3],\n",
        "    'SkinThickness': [25],\n",
        "    'SInsulin': [1],\n",
        "    'BMI': [0],\n",
        "    'DiabetesPedigreeFunction': [10],\n",
        "    'Age': [1],\n",
        "    'Outcome': [0],\n",
        "})"
      ],
      "metadata": {
        "id": "xBwiZ-KiojrI"
      },
      "execution_count": null,
      "outputs": []
    },
    {
      "cell_type": "code",
      "source": [
        "# Input data untuk prediksi\n",
        "input_data = X_train.iloc[[0]]\n",
        "\n",
        "# Melakukan prediksi menggunakan model yang telah dilatih\n",
        "prediction = model.predict(input_data)\n",
        "\n",
        "# Menampilkan hasil prediksi\n",
        "print(f'Prediction for input data: {prediction[0]}')"
      ],
      "metadata": {
        "colab": {
          "base_uri": "https://localhost:8080/"
        },
        "id": "_j6X3gsYolXe",
        "outputId": "984e87c6-d445-4e55-bf3d-1a99c46c4b92"
      },
      "execution_count": null,
      "outputs": [
        {
          "output_type": "stream",
          "name": "stdout",
          "text": [
            "Prediction for input data: 0\n"
          ]
        }
      ]
    }
  ]
}