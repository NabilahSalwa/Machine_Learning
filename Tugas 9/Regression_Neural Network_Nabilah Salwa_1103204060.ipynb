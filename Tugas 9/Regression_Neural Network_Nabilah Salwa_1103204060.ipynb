{
  "nbformat": 4,
  "nbformat_minor": 0,
  "metadata": {
    "colab": {
      "provenance": []
    },
    "kernelspec": {
      "name": "python3",
      "display_name": "Python 3"
    },
    "language_info": {
      "name": "python"
    }
  },
  "cells": [
    {
      "cell_type": "code",
      "source": [
        "#Nama : Nabilah Salwa\n",
        "#NIM  : 1103020460"
      ],
      "metadata": {
        "id": "WtxLcrSU2nIk"
      },
      "execution_count": null,
      "outputs": []
    },
    {
      "cell_type": "code",
      "source": [
        "from google.colab import drive\n",
        "drive.mount('/content/drive')"
      ],
      "metadata": {
        "colab": {
          "base_uri": "https://localhost:8080/"
        },
        "id": "oIZQDFB_2uxG",
        "outputId": "3d0a5028-ef86-47a9-ee8e-362a06bc5c33"
      },
      "execution_count": 1,
      "outputs": [
        {
          "output_type": "stream",
          "name": "stdout",
          "text": [
            "Mounted at /content/drive\n"
          ]
        }
      ]
    },
    {
      "cell_type": "code",
      "source": [
        "import pandas as pd\n",
        "from sklearn.model_selection import train_test_split\n",
        "from sklearn.preprocessing import StandardScaler, LabelEncoder\n",
        "import tensorflow as tf\n",
        "from tensorflow.keras import layers, models"
      ],
      "metadata": {
        "id": "X7BU8Gxb20o1"
      },
      "execution_count": 2,
      "outputs": []
    },
    {
      "cell_type": "code",
      "source": [
        "# Define the path to your dataset in Google Drive\n",
        "dataset_path = '/content/drive/MyDrive/Dataset/diabetes.csv'\n",
        "\n",
        "# Use Pandas to read the CSV file\n",
        "df = pd.read_csv(dataset_path)"
      ],
      "metadata": {
        "id": "c_Li09yu23i_"
      },
      "execution_count": 10,
      "outputs": []
    },
    {
      "cell_type": "code",
      "source": [
        "df.info()"
      ],
      "metadata": {
        "colab": {
          "base_uri": "https://localhost:8080/"
        },
        "id": "SxoiJj0D3CxY",
        "outputId": "5a7f89f6-1909-4fef-dc7f-18b37d81463b"
      },
      "execution_count": 11,
      "outputs": [
        {
          "output_type": "stream",
          "name": "stdout",
          "text": [
            "<class 'pandas.core.frame.DataFrame'>\n",
            "RangeIndex: 768 entries, 0 to 767\n",
            "Data columns (total 9 columns):\n",
            " #   Column                    Non-Null Count  Dtype  \n",
            "---  ------                    --------------  -----  \n",
            " 0   Pregnancies               768 non-null    int64  \n",
            " 1   Glucose                   768 non-null    int64  \n",
            " 2   BloodPressure             768 non-null    int64  \n",
            " 3   SkinThickness             768 non-null    int64  \n",
            " 4   Insulin                   768 non-null    int64  \n",
            " 5   BMI                       768 non-null    float64\n",
            " 6   DiabetesPedigreeFunction  768 non-null    float64\n",
            " 7   Age                       768 non-null    int64  \n",
            " 8   Outcome                   768 non-null    int64  \n",
            "dtypes: float64(2), int64(7)\n",
            "memory usage: 54.1 KB\n"
          ]
        }
      ]
    },
    {
      "cell_type": "code",
      "source": [
        "# Menghapus baris dengan nilai 'POA' pada kolom 'Outcome'\n",
        "df = df[df['Outcome'] != 'POA'].copy()\n",
        "\n",
        "# Mengonversi 'Outcome' ke tipe data float\n",
        "df['Outcome'] = df['Outcome'].astype(float)"
      ],
      "metadata": {
        "id": "Wr8WiFat3E0A"
      },
      "execution_count": 12,
      "outputs": []
    },
    {
      "cell_type": "code",
      "source": [
        "# Mengganti nilai 'POA' dengan NaN (atau nilai lain yang sesuai)\n",
        "df['Outcome'] = pd.to_numeric(df['Outcome'], errors='coerce')"
      ],
      "metadata": {
        "id": "jFalLonZ4NrS"
      },
      "execution_count": 14,
      "outputs": []
    },
    {
      "cell_type": "code",
      "source": [
        "# Memilih kolom-kolom yang ingin digunakan sebagai fitur\n",
        "features = df[['Pregnancies', 'Glucose', 'BloodPressure', 'SkinThickness', 'Insulin', 'BMI', 'DiabetesPedigreeFunction',\n",
        "                 'Age']]\n",
        "\n",
        "# Kolom yang akan dijadikan target (Outcome)\n",
        "target = df['Outcome']\n",
        "\n",
        "# Mengonversi data kategorikal menjadi bentuk numerik\n",
        "label_encoders = {}\n",
        "for column in features.columns:\n",
        "    le = LabelEncoder()\n",
        "    features[column] = le.fit_transform(features[column])\n",
        "    label_encoders[column] = le\n",
        "\n",
        "# Memisahkan data menjadi data latihan dan data uji\n",
        "X_train, X_test, y_train, y_test = train_test_split(features, target, test_size=0.2, random_state=42)\n",
        "\n",
        "# Normalisasi fitur menggunakan StandardScaler\n",
        "scaler = StandardScaler()\n",
        "X_train_scaled = scaler.fit_transform(X_train)\n",
        "X_test_scaled = scaler.transform(X_test)\n",
        "\n",
        "# Membangun model neural network\n",
        "model = models.Sequential([\n",
        "    layers.Dense(128, activation='relu', input_shape=(X_train_scaled.shape[1],)),\n",
        "    layers.Dense(64, activation='relu'),\n",
        "    layers.Dense(1)  # Layer output tanpa aktivasi untuk regresi\n",
        "])\n",
        "\n",
        "# Kompilasi model\n",
        "model.compile(optimizer='adam', loss='mean_squared_error')\n",
        "\n",
        "# Mengonversi target menjadi tensor\n",
        "y_train_tensor = tf.convert_to_tensor(y_train.values, dtype=tf.float32)\n",
        "y_test_tensor = tf.convert_to_tensor(y_test.values, dtype=tf.float32)\n",
        "\n",
        "# Melatih model\n",
        "model.fit(X_train_scaled, y_train_tensor, epochs=10, batch_size=32, validation_data=(X_test_scaled, y_test_tensor))\n",
        "\n",
        "# Evaluasi model\n",
        "loss = model.evaluate(X_test_scaled, y_test_tensor)\n",
        "print(f'Mean Squared Error on Test Data: {loss}')\n",
        "\n",
        "# Melakukan prediksi\n",
        "predictions = model.predict(X_test_scaled)\n",
        "\n",
        "# Output prediksi dan nilai sebenarnya\n",
        "df_predictions = pd.DataFrame({'Actual Outcome': y_test_tensor.numpy(), 'Predicted Outcome': predictions.flatten()})\n",
        "print(df_predictions.head())"
      ],
      "metadata": {
        "colab": {
          "base_uri": "https://localhost:8080/"
        },
        "id": "tcSr7XU24XsP",
        "outputId": "448253ca-9b62-4b05-d74c-ba0d249c90b8"
      },
      "execution_count": 17,
      "outputs": [
        {
          "output_type": "stream",
          "name": "stderr",
          "text": [
            "<ipython-input-17-5d71f6f6bebe>:12: SettingWithCopyWarning: \n",
            "A value is trying to be set on a copy of a slice from a DataFrame.\n",
            "Try using .loc[row_indexer,col_indexer] = value instead\n",
            "\n",
            "See the caveats in the documentation: https://pandas.pydata.org/pandas-docs/stable/user_guide/indexing.html#returning-a-view-versus-a-copy\n",
            "  features[column] = le.fit_transform(features[column])\n",
            "<ipython-input-17-5d71f6f6bebe>:12: SettingWithCopyWarning: \n",
            "A value is trying to be set on a copy of a slice from a DataFrame.\n",
            "Try using .loc[row_indexer,col_indexer] = value instead\n",
            "\n",
            "See the caveats in the documentation: https://pandas.pydata.org/pandas-docs/stable/user_guide/indexing.html#returning-a-view-versus-a-copy\n",
            "  features[column] = le.fit_transform(features[column])\n",
            "<ipython-input-17-5d71f6f6bebe>:12: SettingWithCopyWarning: \n",
            "A value is trying to be set on a copy of a slice from a DataFrame.\n",
            "Try using .loc[row_indexer,col_indexer] = value instead\n",
            "\n",
            "See the caveats in the documentation: https://pandas.pydata.org/pandas-docs/stable/user_guide/indexing.html#returning-a-view-versus-a-copy\n",
            "  features[column] = le.fit_transform(features[column])\n",
            "<ipython-input-17-5d71f6f6bebe>:12: SettingWithCopyWarning: \n",
            "A value is trying to be set on a copy of a slice from a DataFrame.\n",
            "Try using .loc[row_indexer,col_indexer] = value instead\n",
            "\n",
            "See the caveats in the documentation: https://pandas.pydata.org/pandas-docs/stable/user_guide/indexing.html#returning-a-view-versus-a-copy\n",
            "  features[column] = le.fit_transform(features[column])\n",
            "<ipython-input-17-5d71f6f6bebe>:12: SettingWithCopyWarning: \n",
            "A value is trying to be set on a copy of a slice from a DataFrame.\n",
            "Try using .loc[row_indexer,col_indexer] = value instead\n",
            "\n",
            "See the caveats in the documentation: https://pandas.pydata.org/pandas-docs/stable/user_guide/indexing.html#returning-a-view-versus-a-copy\n",
            "  features[column] = le.fit_transform(features[column])\n",
            "<ipython-input-17-5d71f6f6bebe>:12: SettingWithCopyWarning: \n",
            "A value is trying to be set on a copy of a slice from a DataFrame.\n",
            "Try using .loc[row_indexer,col_indexer] = value instead\n",
            "\n",
            "See the caveats in the documentation: https://pandas.pydata.org/pandas-docs/stable/user_guide/indexing.html#returning-a-view-versus-a-copy\n",
            "  features[column] = le.fit_transform(features[column])\n",
            "<ipython-input-17-5d71f6f6bebe>:12: SettingWithCopyWarning: \n",
            "A value is trying to be set on a copy of a slice from a DataFrame.\n",
            "Try using .loc[row_indexer,col_indexer] = value instead\n",
            "\n",
            "See the caveats in the documentation: https://pandas.pydata.org/pandas-docs/stable/user_guide/indexing.html#returning-a-view-versus-a-copy\n",
            "  features[column] = le.fit_transform(features[column])\n",
            "<ipython-input-17-5d71f6f6bebe>:12: SettingWithCopyWarning: \n",
            "A value is trying to be set on a copy of a slice from a DataFrame.\n",
            "Try using .loc[row_indexer,col_indexer] = value instead\n",
            "\n",
            "See the caveats in the documentation: https://pandas.pydata.org/pandas-docs/stable/user_guide/indexing.html#returning-a-view-versus-a-copy\n",
            "  features[column] = le.fit_transform(features[column])\n"
          ]
        },
        {
          "output_type": "stream",
          "name": "stdout",
          "text": [
            "Epoch 1/10\n",
            "20/20 [==============================] - 3s 29ms/step - loss: 0.2237 - val_loss: 0.1682\n",
            "Epoch 2/10\n",
            "20/20 [==============================] - 0s 7ms/step - loss: 0.1675 - val_loss: 0.1586\n",
            "Epoch 3/10\n",
            "20/20 [==============================] - 0s 7ms/step - loss: 0.1546 - val_loss: 0.1598\n",
            "Epoch 4/10\n",
            "20/20 [==============================] - 0s 7ms/step - loss: 0.1419 - val_loss: 0.1637\n",
            "Epoch 5/10\n",
            "20/20 [==============================] - 0s 5ms/step - loss: 0.1373 - val_loss: 0.1677\n",
            "Epoch 6/10\n",
            "20/20 [==============================] - 0s 5ms/step - loss: 0.1342 - val_loss: 0.1641\n",
            "Epoch 7/10\n",
            "20/20 [==============================] - 0s 4ms/step - loss: 0.1331 - val_loss: 0.1673\n",
            "Epoch 8/10\n",
            "20/20 [==============================] - 0s 4ms/step - loss: 0.1293 - val_loss: 0.1722\n",
            "Epoch 9/10\n",
            "20/20 [==============================] - 0s 4ms/step - loss: 0.1253 - val_loss: 0.1693\n",
            "Epoch 10/10\n",
            "20/20 [==============================] - 0s 4ms/step - loss: 0.1219 - val_loss: 0.1745\n",
            "5/5 [==============================] - 0s 3ms/step - loss: 0.1745\n",
            "Mean Squared Error on Test Data: 0.17453493177890778\n",
            "5/5 [==============================] - 0s 3ms/step\n",
            "   Actual Outcome  Predicted Outcome\n",
            "0             0.0           0.247598\n",
            "1             0.0           0.037764\n",
            "2             0.0           0.187009\n",
            "3             0.0           0.382370\n",
            "4             0.0           0.435982\n"
          ]
        }
      ]
    }
  ]
}